{
 "metadata": {
  "name": "",
  "signature": "sha256:5dc93f4a585c1e958613f9c78962644f628a27f261d9ca3df9b48f0d87b4ed99"
 },
 "nbformat": 3,
 "nbformat_minor": 0,
 "worksheets": [
  {
   "cells": [
    {
     "cell_type": "markdown",
     "metadata": {},
     "source": [
      "# PySpark tutorial 2\n",
      "\n",
      "02 Dec 2014\n",
      "\n",
      "<mquartulli@vicomtech.org> "
     ]
    },
    {
     "cell_type": "markdown",
     "metadata": {},
     "source": [
      "# Load Spark"
     ]
    },
    {
     "cell_type": "code",
     "collapsed": false,
     "input": [
      "import sparklingpandas.utils\n",
      "sparklingpandas.utils.add_pyspark_path()\n",
      "import pyspark\n",
      "sc = pyspark.SparkContext()"
     ],
     "language": "python",
     "metadata": {},
     "outputs": [],
     "prompt_number": 2
    },
    {
     "cell_type": "markdown",
     "metadata": {},
     "source": [
      "# Load 2013 Italian political election tweets file"
     ]
    },
    {
     "cell_type": "code",
     "collapsed": false,
     "input": [
      "import os.path"
     ],
     "language": "python",
     "metadata": {},
     "outputs": [],
     "prompt_number": 3
    },
    {
     "cell_type": "code",
     "collapsed": false,
     "input": [
      "ifn = os.path.expanduser('~/Data/DataPolitiche_enc_2013_4_week_16.csv')\n",
      "data = sc.textFile(ifn)"
     ],
     "language": "python",
     "metadata": {},
     "outputs": [],
     "prompt_number": 5
    },
    {
     "cell_type": "code",
     "collapsed": false,
     "input": [
      "data.count()"
     ],
     "language": "python",
     "metadata": {},
     "outputs": [
      {
       "metadata": {},
       "output_type": "pyout",
       "prompt_number": 6,
       "text": [
        "772701"
       ]
      }
     ],
     "prompt_number": 6
    },
    {
     "cell_type": "code",
     "collapsed": false,
     "input": [
      "data.takeSample(False, 3)"
     ],
     "language": "python",
     "metadata": {},
     "outputs": [
      {
       "metadata": {},
       "output_type": "pyout",
       "prompt_number": 15,
       "text": [
        "[u'\"it\",\"\",\"\",\"\",\"a5416e869bd7fa5b9d84b183a60cefed\", \"\",\"0\",\"Napolitano\",\"\",\"\",\"\",1366266315, \"194881481394e34571a6cd8edaf4b789\",\"58ada4fae3359ef0fe8e9dbb27cddf4e\", 2013,4,18,16',\n",
        " u'\"it\",\"\",\"\",\"\",\"ce2e5944c13fabb477dd2083b2099642\", \"\",\"0\",\"Renzi\",\"Monza\",\"lom\",\"mb\",1366519942, \"424c255617b8b5706c21c7d231dc5239\",\"0d872d4ed0442ae635d483409f7607b4\", 2013,4,21,16',\n",
        " u'\"it\",\"\",\"\",\"\",\"1a962a2bbfa9e1a604e849f982fdbbcd\", \"#twitter,#Marini\",\"0\",\"Napolitano\",\"Torino\",\"pie\",\"to\",1366357802, \"194881481394e34571a6cd8edaf4b789\",\"c504fabffedec69853d74cc07d4b5fa2\", 2013,4,19,16']"
       ]
      }
     ],
     "prompt_number": 15
    },
    {
     "cell_type": "markdown",
     "metadata": {},
     "source": [
      "# Extract candidates"
     ]
    },
    {
     "cell_type": "code",
     "collapsed": false,
     "input": [
      "data2 = data.map(lambda l:l.split(','))\\\n",
      "            .map(lambda record:record[7])\\\n",
      "            .filter(lambda candidate: not candidate.startswith('#'))"
     ],
     "language": "python",
     "metadata": {},
     "outputs": [],
     "prompt_number": 13
    },
    {
     "cell_type": "code",
     "collapsed": false,
     "input": [
      "data2.takeSample(False, 3)"
     ],
     "language": "python",
     "metadata": {},
     "outputs": [
      {
       "metadata": {},
       "output_type": "pyout",
       "prompt_number": 16,
       "text": [
        "[u'\"Bersani\"', u'\"Napolitano\"', u'\"Napolitano\"']"
       ]
      }
     ],
     "prompt_number": 16
    },
    {
     "cell_type": "code",
     "collapsed": false,
     "input": [
      "data2.count()"
     ],
     "language": "python",
     "metadata": {},
     "outputs": [
      {
       "metadata": {},
       "output_type": "pyout",
       "prompt_number": 17,
       "text": [
        "674410"
       ]
      }
     ],
     "prompt_number": 17
    },
    {
     "cell_type": "code",
     "collapsed": false,
     "input": [
      "print data2.toDebugString()"
     ],
     "language": "python",
     "metadata": {},
     "outputs": [
      {
       "output_type": "stream",
       "stream": "stdout",
       "text": [
        "(5) PythonRDD[10] at RDD at PythonRDD.scala:43 [Serialized 1x Replicated]\n",
        " |  /Users/marcoq/Data/DataPolitiche_enc_2013_4_week_16.csv MappedRDD[1] at textFile at NativeMethodAccessorImpl.java:-2 [Serialized 1x Replicated]\n",
        " |  /Users/marcoq/Data/DataPolitiche_enc_2013_4_week_16.csv HadoopRDD[0] at textFile at NativeMethodAccessorImpl.java:-2 [Serialized 1x Replicated]\n"
       ]
      }
     ],
     "prompt_number": 18
    },
    {
     "cell_type": "code",
     "collapsed": false,
     "input": [
      "candidates = data2.distinct().collect()"
     ],
     "language": "python",
     "metadata": {},
     "outputs": [],
     "prompt_number": 19
    },
    {
     "cell_type": "code",
     "collapsed": false,
     "input": [
      "candidates"
     ],
     "language": "python",
     "metadata": {},
     "outputs": [
      {
       "metadata": {},
       "output_type": "pyout",
       "prompt_number": 20,
       "text": [
        "[u'\"Maroni\"',\n",
        " u'\"Riccardi\"',\n",
        " u'\"Meloni\"',\n",
        " u'\"Alfano\"',\n",
        " u'\"Bersani\"',\n",
        " u'\"Casini\"',\n",
        " u'\"Grillo\"',\n",
        " u'\"Giannino\"',\n",
        " u'\"Monti\"',\n",
        " u'\"Napolitano\"',\n",
        " u'\"Berlusconi\"',\n",
        " u'\"Ingroia\"',\n",
        " u'\"Vendola\"',\n",
        " u'\"Fini\"',\n",
        " u'\"Renzi\"',\n",
        " u'\"0\"',\n",
        " u'\"Passera\"',\n",
        " u'\"Di Pietro\"']"
       ]
      }
     ],
     "prompt_number": 20
    },
    {
     "cell_type": "markdown",
     "metadata": {},
     "source": [
      "# Count candidate mentions"
     ]
    },
    {
     "cell_type": "code",
     "collapsed": false,
     "input": [
      "count = data2.map(lambda x:(x,1)).countByKey()"
     ],
     "language": "python",
     "metadata": {},
     "outputs": [],
     "prompt_number": 24
    },
    {
     "cell_type": "code",
     "collapsed": false,
     "input": [
      "count"
     ],
     "language": "python",
     "metadata": {},
     "outputs": [
      {
       "metadata": {},
       "output_type": "pyout",
       "prompt_number": 26,
       "text": [
        "defaultdict(<type 'int'>, {u'\"0\"': 94972, u'\"Fini\"': 116, u'\"Monti\"': 21106, u'\"Renzi\"': 73328, u'\"Casini\"': 6309, u'\"Meloni\"': 2850, u'\"Napolitano\"': 102516, u'\"Passera\"': 33, u'\"Vendola\"': 22876, u'\"Riccardi\"': 61, u'\"Grillo\"': 114777, u'\"Ingroia\"': 3648, u'\"Di Pietro\"': 586, u'\"Maroni\"': 71, u'\"Berlusconi\"': 64505, u'\"Bersani\"': 155404, u'\"Giannino\"': 3696, u'\"Alfano\"': 7556})"
       ]
      }
     ],
     "prompt_number": 26
    },
    {
     "cell_type": "markdown",
     "metadata": {},
     "source": [
      "# Convert to `pandas` data frame"
     ]
    },
    {
     "cell_type": "code",
     "collapsed": false,
     "input": [
      "import pandas"
     ],
     "language": "python",
     "metadata": {},
     "outputs": [],
     "prompt_number": 27
    },
    {
     "cell_type": "code",
     "collapsed": false,
     "input": [
      "count_df = pandas.DataFrame()"
     ],
     "language": "python",
     "metadata": {},
     "outputs": [],
     "prompt_number": 28
    },
    {
     "cell_type": "code",
     "collapsed": false,
     "input": [
      "count_df['candidate'] = candidates"
     ],
     "language": "python",
     "metadata": {},
     "outputs": [],
     "prompt_number": 29
    },
    {
     "cell_type": "code",
     "collapsed": false,
     "input": [
      "count_df['counts'] = [count[c] for c in candidates]"
     ],
     "language": "python",
     "metadata": {},
     "outputs": [],
     "prompt_number": 30
    },
    {
     "cell_type": "code",
     "collapsed": false,
     "input": [
      "count_df.head()"
     ],
     "language": "python",
     "metadata": {},
     "outputs": [
      {
       "html": [
        "<div style=\"max-height:1000px;max-width:1500px;overflow:auto;\">\n",
        "<table border=\"1\" class=\"dataframe\">\n",
        "  <thead>\n",
        "    <tr style=\"text-align: right;\">\n",
        "      <th></th>\n",
        "      <th>candidate</th>\n",
        "      <th>counts</th>\n",
        "    </tr>\n",
        "  </thead>\n",
        "  <tbody>\n",
        "    <tr>\n",
        "      <th>0</th>\n",
        "      <td>   \"Maroni\"</td>\n",
        "      <td>     71</td>\n",
        "    </tr>\n",
        "    <tr>\n",
        "      <th>1</th>\n",
        "      <td> \"Riccardi\"</td>\n",
        "      <td>     61</td>\n",
        "    </tr>\n",
        "    <tr>\n",
        "      <th>2</th>\n",
        "      <td>   \"Meloni\"</td>\n",
        "      <td>   2850</td>\n",
        "    </tr>\n",
        "    <tr>\n",
        "      <th>3</th>\n",
        "      <td>   \"Alfano\"</td>\n",
        "      <td>   7556</td>\n",
        "    </tr>\n",
        "    <tr>\n",
        "      <th>4</th>\n",
        "      <td>  \"Bersani\"</td>\n",
        "      <td> 155404</td>\n",
        "    </tr>\n",
        "  </tbody>\n",
        "</table>\n",
        "</div>"
       ],
       "metadata": {},
       "output_type": "pyout",
       "prompt_number": 31,
       "text": [
        "    candidate  counts\n",
        "0    \"Maroni\"      71\n",
        "1  \"Riccardi\"      61\n",
        "2    \"Meloni\"    2850\n",
        "3    \"Alfano\"    7556\n",
        "4   \"Bersani\"  155404"
       ]
      }
     ],
     "prompt_number": 31
    },
    {
     "cell_type": "markdown",
     "metadata": {},
     "source": [
      "# Plot mentions count"
     ]
    },
    {
     "cell_type": "code",
     "collapsed": false,
     "input": [
      "%matplotlib inline"
     ],
     "language": "python",
     "metadata": {},
     "outputs": [],
     "prompt_number": 32
    },
    {
     "cell_type": "code",
     "collapsed": false,
     "input": [
      "count_df.sort('counts')\\\n",
      "        .plot(x='candidate',y='counts',kind='bar',legend=False,alpha=0.5)"
     ],
     "language": "python",
     "metadata": {},
     "outputs": [
      {
       "metadata": {},
       "output_type": "pyout",
       "prompt_number": 34,
       "text": [
        "<matplotlib.axes.AxesSubplot at 0x10c2a3b90>"
       ]
      },
      {
       "metadata": {},
       "output_type": "display_data",
       "png": "[encoded data removed]",
       "text": [
        "<matplotlib.figure.Figure at 0x10c2a5850>"
       ]
      }
     ],
     "prompt_number": 34
    },
    {
     "cell_type": "code",
     "collapsed": false,
     "input": [],
     "language": "python",
     "metadata": {},
     "outputs": []
    }
   ],
   "metadata": {}
  }
 ]
}